{
  "nbformat": 4,
  "nbformat_minor": 0,
  "metadata": {
    "colab": {
      "provenance": [],
      "authorship_tag": "ABX9TyOaOiXtzNrW9++HOfC64uZu",
      "include_colab_link": true
    },
    "kernelspec": {
      "name": "python3",
      "display_name": "Python 3"
    },
    "language_info": {
      "name": "python"
    }
  },
  "cells": [
    {
      "cell_type": "markdown",
      "metadata": {
        "id": "view-in-github",
        "colab_type": "text"
      },
      "source": [
        "<a href=\"https://colab.research.google.com/github/FabioCerqueiraGit/DataSciencePython/blob/main/FraudulentCreditCard/DTS_FraudeCartao.ipynb\" target=\"_parent\"><img src=\"https://colab.research.google.com/assets/colab-badge.svg\" alt=\"Open In Colab\"/></a>"
      ]
    },
    {
      "cell_type": "markdown",
      "source": [
        "# 1. Definição do Problema\n",
        "\n",
        "Objetivo: Identificar características e padrões em transações fraudulentas no dataset fornecido."
      ],
      "metadata": {
        "id": "_GPp6fRu-Yet"
      }
    },
    {
      "cell_type": "markdown",
      "source": [
        "# 2. Coleta e Preparação dos Dados"
      ],
      "metadata": {
        "id": "0kH9I_u1-dXM"
      }
    },
    {
      "cell_type": "code",
      "execution_count": null,
      "metadata": {
        "id": "RzEmxVrE-Lww"
      },
      "outputs": [],
      "source": [
        "# Importação das bibliotecas necessárias\n",
        "import pandas as pd\n",
        "import numpy as np\n",
        "import matplotlib.pyplot as plt\n",
        "import seaborn as sns\n",
        "from sklearn.model_selection import train_test_split\n",
        "from sklearn.preprocessing import StandardScaler\n",
        "from sklearn.ensemble import RandomForestClassifier\n",
        "from sklearn.metrics import classification_report, confusion_matrix, roc_curve, auc\n",
        "\n",
        "# Carregar os dados\n",
        "df = pd.read_csv('/content/creditcard.csv')\n",
        "\n",
        "# Mostrar as primeiras linhas do dataset\n",
        "df.head()\n",
        "\n",
        "# Verificar se há dados ausentes\n",
        "df.isnull().sum()\n"
      ]
    },
    {
      "cell_type": "markdown",
      "source": [
        "# 3. Análise Descritiva"
      ],
      "metadata": {
        "id": "2q5Coori-hPT"
      }
    },
    {
      "cell_type": "code",
      "source": [
        "# Estatísticas descritivas\n",
        "df.describe()\n",
        "\n",
        "# Distribuição das classes\n",
        "plt.figure(figsize=(6, 4))\n",
        "sns.countplot(x='Class', data=df)\n",
        "plt.title('Distribuição de Classes')\n",
        "plt.show()\n",
        "\n",
        "# Distribuição das transações pelo tempo\n",
        "plt.figure(figsize=(10, 6))\n",
        "sns.histplot(df['Time'], bins=50, kde=True)\n",
        "plt.title('Distribuição das Transações pelo Tempo')\n",
        "plt.show()\n",
        "\n",
        "# Distribuição dos valores das transações\n",
        "plt.figure(figsize=(10, 6))\n",
        "sns.histplot(df['Amount'], bins=50, kde=True)\n",
        "plt.title('Distribuição dos Valores das Transações')\n",
        "plt.show()\n"
      ],
      "metadata": {
        "id": "kPBB66Xm-j5l"
      },
      "execution_count": null,
      "outputs": []
    },
    {
      "cell_type": "markdown",
      "source": [
        "# 4. Análise Diagnóstica"
      ],
      "metadata": {
        "id": "QkOC-DsI-lzF"
      }
    },
    {
      "cell_type": "code",
      "source": [
        "# Correlação entre as variáveis\n",
        "plt.figure(figsize=(15, 10))\n",
        "correlation_matrix = df.corr()\n",
        "sns.heatmap(correlation_matrix, annot=False, cmap='coolwarm')\n",
        "plt.title('Matriz de Correlação')\n",
        "plt.show()\n",
        "\n",
        "# Análise das variáveis PCA\n",
        "fraud = df[df['Class'] == 1]\n",
        "non_fraud = df[df['Class'] == 0]\n",
        "\n",
        "plt.figure(figsize=(15, 10))\n",
        "for i in range(1, 29):\n",
        "    plt.subplot(7, 4, i)\n",
        "    sns.kdeplot(fraud[f'V{i}'], label='Fraude', shade=True)\n",
        "    sns.kdeplot(non_fraud[f'V{i}'], label='Não Fraude', shade=True)\n",
        "    plt.title(f'V{i}')\n",
        "plt.tight_layout()\n",
        "plt.show()\n"
      ],
      "metadata": {
        "id": "2piPIOZ3-oDV"
      },
      "execution_count": null,
      "outputs": []
    },
    {
      "cell_type": "markdown",
      "source": [
        "# 5. Análise Preditiva"
      ],
      "metadata": {
        "id": "zS-vEfMy-qvX"
      }
    },
    {
      "cell_type": "code",
      "source": [
        "# Preparação dos dados para modelagem\n",
        "X = df.drop('Class', axis=1)\n",
        "y = df['Class']\n",
        "\n",
        "# Divisão em conjuntos de treino e teste\n",
        "X_train, X_test, y_train, y_test = train_test_split(X, y, test_size=0.2, random_state=42)\n",
        "\n",
        "# Normalização dos dados\n",
        "scaler = StandardScaler()\n",
        "X_train_scaled = scaler.fit_transform(X_train)\n",
        "X_test_scaled = scaler.transform(X_test)\n",
        "\n",
        "# Treinamento do modelo\n",
        "model = RandomForestClassifier(n_estimators=100, random_state=42)\n",
        "model.fit(X_train_scaled, y_train)\n",
        "\n",
        "# Avaliação do modelo\n",
        "y_pred = model.predict(X_test_scaled)\n",
        "print(classification_report(y_test, y_pred))\n",
        "\n",
        "# Matriz de confusão\n",
        "conf_matrix = confusion_matrix(y_test, y_pred)\n",
        "sns.heatmap(conf_matrix, annot=True, fmt='d')\n",
        "plt.title('Matriz de Confusão')\n",
        "plt.xlabel('Predito')\n",
        "plt.ylabel('Verdadeiro')\n",
        "plt.show()\n",
        "\n",
        "# Curva ROC\n",
        "y_pred_proba = model.predict_proba(X_test_scaled)[:, 1]\n",
        "fpr, tpr, thresholds = roc_curve(y_test, y_pred_proba)\n",
        "roc_auc = auc(fpr, tpr)\n",
        "\n",
        "plt.figure(figsize=(8, 6))\n",
        "plt.plot(fpr, tpr, label=f'AUC = {roc_auc:.2f}')\n",
        "plt.plot([0, 1], [0, 1], 'k--')\n",
        "plt.xlabel('Taxa de Falsos Positivos')\n",
        "plt.ylabel('Taxa de Verdadeiros Positivos')\n",
        "plt.title('Curva ROC')\n",
        "plt.legend(loc='lower right')\n",
        "plt.show()\n"
      ],
      "metadata": {
        "id": "U96HdT89-r6t"
      },
      "execution_count": null,
      "outputs": []
    },
    {
      "cell_type": "markdown",
      "source": [
        "# 6. Análise Prescritiva"
      ],
      "metadata": {
        "id": "qAC8t1v4-t0J"
      }
    },
    {
      "cell_type": "code",
      "source": [
        "# Análise dos recursos mais importantes do modelo\n",
        "feature_importances = model.feature_importances_\n",
        "features = X.columns\n",
        "importances = pd.DataFrame({'Feature': features, 'Importance': feature_importances})\n",
        "importances = importances.sort_values('Importance', ascending=False)\n",
        "\n",
        "plt.figure(figsize=(12, 8))\n",
        "sns.barplot(x='Importance', y='Feature', data=importances)\n",
        "plt.title('Importância das Variáveis')\n",
        "plt.show()\n",
        "\n",
        "# Recomendações baseadas nas análises\n",
        "print(\"Recomendações para minimizar fraudes:\")\n",
        "print(\"- Monitorar as transações com altos valores de variáveis importantes (ex: V4, V11, V12, etc.).\")\n",
        "print(\"- Implementar verificações adicionais para transações fora do padrão normal de comportamento.\")\n",
        "print(\"- Usar o modelo de machine learning em tempo real para detectar e bloquear possíveis fraudes.\")\n"
      ],
      "metadata": {
        "id": "_6rZsThL-wd1"
      },
      "execution_count": null,
      "outputs": []
    },
    {
      "cell_type": "markdown",
      "source": [
        "# Considerações Finais\n",
        "Descritiva: Exploramos a distribuição das classes e as características gerais das transações.\n",
        "\n",
        "Diagnóstica: Investigamos correlações e padrões nas variáveis que diferenciam transações fraudulentas das não fraudulentas.\n",
        "\n",
        "Preditiva: Treinamos um modelo de Random Forest para prever fraudes e avaliamos seu desempenho.\n",
        "\n",
        "Prescritiva: Analisamos as variáveis mais importantes no modelo e propusemos ações para minimizar fraudes."
      ],
      "metadata": {
        "id": "tlvHZJ4--yTA"
      }
    }
  ]
}