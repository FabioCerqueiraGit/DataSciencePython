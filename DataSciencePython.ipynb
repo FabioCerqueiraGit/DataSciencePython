{
  "nbformat": 4,
  "nbformat_minor": 0,
  "metadata": {
    "colab": {
      "provenance": [],
      "authorship_tag": "ABX9TyMstxevjnqSDDuL39n/Ok92",
      "include_colab_link": true
    },
    "kernelspec": {
      "name": "python3",
      "display_name": "Python 3"
    },
    "language_info": {
      "name": "python"
    }
  },
  "cells": [
    {
      "cell_type": "markdown",
      "metadata": {
        "id": "view-in-github",
        "colab_type": "text"
      },
      "source": [
        "<a href=\"https://colab.research.google.com/github/FabioCerqueiraGit/DataSciencePython/blob/main/DataSciencePython.ipynb\" target=\"_parent\"><img src=\"https://colab.research.google.com/assets/colab-badge.svg\" alt=\"Open In Colab\"/></a>"
      ]
    },
    {
      "cell_type": "markdown",
      "source": [
        "# Análise de Vendas com metodologia Data Science\n",
        "Python com bibliotecas:\n",
        "Pandas, Matplotlib e Seaborn\n",
        "www.fabiocerqueira.com.br\n",
        "+55(31)98457-3832"
      ],
      "metadata": {
        "id": "BgN-0nV3ZRL7"
      }
    },
    {
      "cell_type": "markdown",
      "source": [
        "# Configurando o ambiente no Google Colab"
      ],
      "metadata": {
        "id": "jxZFlL_gaW1S"
      }
    },
    {
      "cell_type": "code",
      "execution_count": 1,
      "metadata": {
        "id": "4hEPedr0ZFW9"
      },
      "outputs": [],
      "source": [
        "import pandas as pd\n",
        "import matplotlib.pyplot as plt\n",
        "import seaborn as sns\n"
      ]
    },
    {
      "cell_type": "markdown",
      "source": [
        "# Carregando os dados"
      ],
      "metadata": {
        "id": "fXOMASFWarPE"
      }
    },
    {
      "cell_type": "code",
      "source": [
        "# URLs dos arquivos no GitHub\n",
        "url_metas = 'https://github.com/FabioCerqueiraGit/DadosVendasDescaracterizados/blob/main/Metas.xlsx?raw=true'\n",
        "url_produtos = 'https://github.com/FabioCerqueiraGit/DadosVendasDescaracterizados/blob/main/Produtos.xlsx?raw=true'\n",
        "url_vendas = 'https://github.com/FabioCerqueiraGit/DadosVendasDescaracterizados/blob/main/Vendas.xlsx?raw=true'\n",
        "url_vendedores = 'https://github.com/FabioCerqueiraGit/DadosVendasDescaracterizados/blob/main/Vendedores.xlsx?raw=true'\n",
        "\n",
        "# Carregando os dados\n",
        "metas = pd.read_excel(url_metas)\n",
        "produtos = pd.read_excel(url_produtos)\n",
        "vendas = pd.read_excel(url_vendas)\n",
        "vendedores = pd.read_excel(url_vendedores)\n"
      ],
      "metadata": {
        "id": "4-yH89rEavE1"
      },
      "execution_count": 58,
      "outputs": []
    },
    {
      "cell_type": "markdown",
      "source": [
        "# Verificando os dados carregados"
      ],
      "metadata": {
        "id": "55_Rdg6_lTKN"
      }
    },
    {
      "cell_type": "code",
      "source": [
        "# Verificando os nomes das colunas\n",
        "print(\"Metas columns:\", metas.columns)\n",
        "print('')\n",
        "print(\"Produtos columns:\", produtos.columns)\n",
        "print('')\n",
        "print(\"Vendas columns:\", vendas.columns)\n",
        "print('')\n",
        "print(\"Vendedores columns:\", vendedores.columns)\n",
        "print('')\n"
      ],
      "metadata": {
        "colab": {
          "base_uri": "https://localhost:8080/"
        },
        "id": "bN_AuR2YlOox",
        "outputId": "9deb41f6-9911-4537-c26b-eb87dec8e676"
      },
      "execution_count": 59,
      "outputs": [
        {
          "output_type": "stream",
          "name": "stdout",
          "text": [
            "Metas columns: Index(['Mês', 'Ano', 'Vendedor', 'Meta Faturamento', 'Meta Margem Bruta',\n",
            "       'Meta Notas Emitidas'],\n",
            "      dtype='object')\n",
            "\n",
            "Produtos columns: Index(['Cod Produto', 'Grupo Produto', 'Linha Produto', 'Fornecedor',\n",
            "       'CustoUnitario'],\n",
            "      dtype='object')\n",
            "\n",
            "Vendas columns: Index(['Data', 'NFe', 'cdProduto', 'cdVendedor', 'Vendedor', 'Equipe Vendas',\n",
            "       'QtdItens', 'PrecoUnitario'],\n",
            "      dtype='object')\n",
            "\n",
            "Vendedores columns: Index(['cdVendedor', 'Vendedor', 'Equipe Vendas', 'Foto'], dtype='object')\n",
            "\n"
          ]
        }
      ]
    },
    {
      "cell_type": "markdown",
      "source": [
        "# Colunas auxiliares de DATA\n",
        "Esse é um costume meu em todos os softwares de Análise e Ciência de Dados. Eu sempre deixo essa opção de informação duisponível para facilitar os próximos passos da análise."
      ],
      "metadata": {
        "id": "zJaeZcsOAx_a"
      }
    },
    {
      "cell_type": "code",
      "source": [
        "# Mapeamento dos meses em português para números\n",
        "meses = {\n",
        "    \"janeiro\": 1, \"fevereiro\": 2, \"março\": 3, \"abril\": 4, \"maio\": 5, \"junho\": 6,\n",
        "    \"julho\": 7, \"agosto\": 8, \"setembro\": 9, \"outubro\": 10, \"novembro\": 11, \"dezembro\": 12\n",
        "}\n",
        "\n",
        "# Criando a coluna MesNumero\n",
        "metas['MesNumero'] = metas['Mês'].str.lower().map(meses)\n",
        "metas['Trimestre'] = metas['MesNumero'].apply(lambda x: (x - 1) // 3 + 1)\n",
        "metas['Semestre'] = metas['MesNumero'].apply(lambda x: (x - 1) // 6 + 1)"
      ],
      "metadata": {
        "id": "alHQRAZSBCQo"
      },
      "execution_count": 61,
      "outputs": []
    },
    {
      "cell_type": "markdown",
      "source": [
        "# Explorando os dados"
      ],
      "metadata": {
        "id": "rWm2_SyJa7UW"
      }
    },
    {
      "cell_type": "code",
      "source": [
        "print('--------------------------------------')\n",
        "print('Visualização parcial dos dados de META')\n",
        "print('--------------------------------------')\n",
        "print(metas.head())\n",
        "print('------------------------------------------')\n",
        "print('Visualização parcial dos dados de PRODUTOS')\n",
        "print('------------------------------------------')\n",
        "print(produtos.head())\n",
        "print('----------------------------------------')\n",
        "print('Visualização parcial dos dados de VENDAS')\n",
        "print('----------------------------------------')\n",
        "print(vendas.head())\n",
        "print('--------------------------------------------')\n",
        "print('Visualização parcial dos dados de VENDEDORES')\n",
        "print('--------------------------------------------')\n",
        "print(vendedores.head())\n"
      ],
      "metadata": {
        "colab": {
          "base_uri": "https://localhost:8080/"
        },
        "id": "JkRHV2uLa9Qw",
        "outputId": "b3529a64-a859-44d4-a3d0-d41924d03d31"
      },
      "execution_count": 62,
      "outputs": [
        {
          "output_type": "stream",
          "name": "stdout",
          "text": [
            "--------------------------------------\n",
            "Visualização parcial dos dados de META\n",
            "--------------------------------------\n",
            "         Mês   Ano              Vendedor  Meta Faturamento  Meta Margem Bruta  \\\n",
            "0    janeiro  2019  102 - Gustavo Barros         85.425000            93.2960   \n",
            "1  fevereiro  2019  102 - Gustavo Barros        572.900000           306.2304   \n",
            "2      março  2019  102 - Gustavo Barros         40.233333           138.1800   \n",
            "3      abril  2019  102 - Gustavo Barros         97.466667            59.2704   \n",
            "4       maio  2019  102 - Gustavo Barros       4643.975000          6512.6880   \n",
            "\n",
            "   Meta Notas Emitidas  MesNumero  Trimestre  Semestre  \n",
            "0                 11.7          1          1         1  \n",
            "1                 13.0          2          1         1  \n",
            "2                  2.6          3          1         1  \n",
            "3                  0.0          4          2         1  \n",
            "4                 65.0          5          2         1  \n",
            "------------------------------------------\n",
            "Visualização parcial dos dados de PRODUTOS\n",
            "------------------------------------------\n",
            "  Cod Produto Grupo Produto Linha Produto   Fornecedor  CustoUnitario\n",
            "0   Prod 2096      Açúcares     Alimentos  King Coffee           2.11\n",
            "1   Prod 2097      Açúcares     Alimentos  King Coffee           2.11\n",
            "2    Prod 462      Açúcares     Alimentos  King Coffee           1.87\n",
            "3    Prod 467      Açúcares     Alimentos  King Coffee           1.85\n",
            "4    Prod 691      Açúcares     Alimentos  King Coffee           2.74\n",
            "----------------------------------------\n",
            "Visualização parcial dos dados de VENDAS\n",
            "----------------------------------------\n",
            "         Data      NFe  cdProduto  cdVendedor          Vendedor  \\\n",
            "0  01/01/2019  1793150       2255         144  Felipe Goncalves   \n",
            "1  01/01/2019  1856396        321         215    Carla Ferreira   \n",
            "2  01/01/2019  1834054        318         125     Gustavo Gomes   \n",
            "3  01/01/2019  1748367       1659         265        Julio Lima   \n",
            "4  01/01/2019  1842622        318         144  Felipe Goncalves   \n",
            "\n",
            "    Equipe Vendas  QtdItens  PrecoUnitario  \n",
            "0          Online        24           0.94  \n",
            "1          Varejo        48           0.98  \n",
            "2  Distribuidoras        96           0.98  \n",
            "3  Distribuidoras        24           0.86  \n",
            "4          Online        48           0.91  \n",
            "--------------------------------------------\n",
            "Visualização parcial dos dados de VENDEDORES\n",
            "--------------------------------------------\n",
            "   cdVendedor          Vendedor   Equipe Vendas  \\\n",
            "0         215    Carla Ferreira          Varejo   \n",
            "1         125     Gustavo Gomes  Distribuidoras   \n",
            "2         144  Felipe Goncalves          Online   \n",
            "3         265        Julio Lima  Distribuidoras   \n",
            "4         196  Leonardo Cardoso          Varejo   \n",
            "\n",
            "                                                Foto  \n",
            "0  https://1.bp.blogspot.com/-2ZIrGQO4_mk/Xi9TFLi...  \n",
            "1  https://1.bp.blogspot.com/-BoHpsoq6GG0/Xi9TGaG...  \n",
            "2  https://292aa00292a014763d1b-96a84504aed2b25fc...  \n",
            "3  https://1.bp.blogspot.com/-MNthyUgbw7w/Xi9TF3k...  \n",
            "4  https://292aa00292a014763d1b-96a84504aed2b25fc...  \n"
          ]
        }
      ]
    },
    {
      "cell_type": "markdown",
      "source": [
        "# Tratando os problemas identificado nos dados\n",
        "Problema 01: A coluna \"Cod Produto\" contem string + int e pode ocasionar problemas na consolidação dos dados."
      ],
      "metadata": {
        "id": "I97evM3P0WW-"
      }
    },
    {
      "cell_type": "code",
      "source": [
        "# Verificando se a coluna 'Cod Produto' contém o prefixo 'Prod '\n",
        "if produtos['Cod Produto'].str.contains('Prod ').any():\n",
        "    # Removendo o prefixo \"Prod \" e convertendo para inteiro na coluna \"Cod Produto\"\n",
        "    produtos['Cod Produto'] = produtos['Cod Produto'].str.replace('Prod ', '').astype(int)\n",
        "    print(\"Prefixo 'Prod ' removido e coluna convertida para inteiro.\")\n",
        "else:\n",
        "    print(\"Nenhum prefixo 'Prod ' encontrado na coluna 'Cod Produto'.\")\n",
        "\n",
        "# Verificando a correção\n",
        "print(produtos.head())"
      ],
      "metadata": {
        "colab": {
          "base_uri": "https://localhost:8080/"
        },
        "id": "7Vw_lCgM0xzz",
        "outputId": "6afeb629-bf1c-4fed-c084-47f74f6498a3"
      },
      "execution_count": 63,
      "outputs": [
        {
          "output_type": "stream",
          "name": "stdout",
          "text": [
            "Prefixo 'Prod ' removido e coluna convertida para inteiro.\n",
            "   Cod Produto Grupo Produto Linha Produto   Fornecedor  CustoUnitario\n",
            "0         2096      Açúcares     Alimentos  King Coffee           2.11\n",
            "1         2097      Açúcares     Alimentos  King Coffee           2.11\n",
            "2          462      Açúcares     Alimentos  King Coffee           1.87\n",
            "3          467      Açúcares     Alimentos  King Coffee           1.85\n",
            "4          691      Açúcares     Alimentos  King Coffee           2.74\n"
          ]
        }
      ]
    },
    {
      "cell_type": "markdown",
      "source": [
        "Problema 02: Na tabela Meta temos a coluna vendedor e dentro as informações estão com o código do vendedor + \" - \" + nome do vendedor por exemplo \"102 - Gustavo Barros\"."
      ],
      "metadata": {
        "id": "ROHoeSnq5tfG"
      }
    },
    {
      "cell_type": "code",
      "source": [
        "# Dividindo a coluna 'vendedor' em 'cdVendedor' e 'vendedor'\n",
        "metas['cdVendedor'] = metas['Vendedor'].str.extract(r'(\\d+)', expand=False).astype(int)\n",
        "metas['Vendedor'] = metas['Vendedor'].str.replace(r'\\d+ - ', '', regex=True)\n",
        "\n",
        "# Verificando a correção\n",
        "print(metas.head())"
      ],
      "metadata": {
        "colab": {
          "base_uri": "https://localhost:8080/"
        },
        "id": "7BgomcN55wBi",
        "outputId": "814c2ba7-2a96-46bb-fab7-9b4895f8dd82"
      },
      "execution_count": 64,
      "outputs": [
        {
          "output_type": "stream",
          "name": "stdout",
          "text": [
            "         Mês   Ano        Vendedor  Meta Faturamento  Meta Margem Bruta  \\\n",
            "0    janeiro  2019  Gustavo Barros         85.425000            93.2960   \n",
            "1  fevereiro  2019  Gustavo Barros        572.900000           306.2304   \n",
            "2      março  2019  Gustavo Barros         40.233333           138.1800   \n",
            "3      abril  2019  Gustavo Barros         97.466667            59.2704   \n",
            "4       maio  2019  Gustavo Barros       4643.975000          6512.6880   \n",
            "\n",
            "   Meta Notas Emitidas  MesNumero  Trimestre  Semestre  cdVendedor  \n",
            "0                 11.7          1          1         1         102  \n",
            "1                 13.0          2          1         1         102  \n",
            "2                  2.6          3          1         1         102  \n",
            "3                  0.0          4          2         1         102  \n",
            "4                 65.0          5          2         1         102  \n"
          ]
        }
      ]
    },
    {
      "cell_type": "markdown",
      "source": [
        "# Análise descritiva"
      ],
      "metadata": {
        "id": "gLUgFY3PbA5v"
      }
    },
    {
      "cell_type": "code",
      "source": [
        "# Análise descritiva das metas\n",
        "print('----------------------------')\n",
        "print('Análise descritiva das metas')\n",
        "print('----------------------------')\n",
        "print(metas.describe())\n",
        "\n",
        "# Análise descritiva dos produtos\n",
        "print('-------------------------------')\n",
        "print('Análise descritiva dos produtos')\n",
        "print('-------------------------------')\n",
        "print(produtos.describe())\n",
        "\n",
        "# Análise descritiva das vendas\n",
        "print('-----------------------------')\n",
        "print('Análise descritiva das vendas')\n",
        "print('-----------------------------')\n",
        "print(vendas.describe())\n",
        "\n",
        "# Análise descritiva dos vendedores\n",
        "print('---------------------------------')\n",
        "print('Análise descritiva dos vendedores')\n",
        "print('---------------------------------')\n",
        "print(vendedores.describe())\n"
      ],
      "metadata": {
        "colab": {
          "base_uri": "https://localhost:8080/"
        },
        "id": "nvKZMpoAbCnA",
        "outputId": "8f6ba6e6-3dc5-4e57-ff16-ea2de1356f04"
      },
      "execution_count": 74,
      "outputs": [
        {
          "output_type": "stream",
          "name": "stdout",
          "text": [
            "----------------------------\n",
            "Análise descritiva das metas\n",
            "----------------------------\n",
            "               Ano  Meta Faturamento  Meta Margem Bruta  Meta Notas Emitidas  \\\n",
            "count    24.000000         24.000000          24.000000            24.000000   \n",
            "mean   2019.500000      49282.414444       38332.788200           522.437500   \n",
            "std       0.510754      60920.099391       45365.385414           726.036078   \n",
            "min    2019.000000         40.233333          39.984000             0.000000   \n",
            "25%    2019.000000        649.081250         622.515600            12.675000   \n",
            "50%    2019.500000      38403.340000       21304.808000           207.350000   \n",
            "75%    2020.000000      75868.981250       69819.472800           747.500000   \n",
            "max    2020.000000     247741.566667      146160.806400          2819.700000   \n",
            "\n",
            "       MesNumero  Trimestre   Semestre  cdVendedor  \n",
            "count  24.000000   24.00000  24.000000        24.0  \n",
            "mean    6.500000    2.50000   1.500000       102.0  \n",
            "std     3.526299    1.14208   0.510754         0.0  \n",
            "min     1.000000    1.00000   1.000000       102.0  \n",
            "25%     3.750000    1.75000   1.000000       102.0  \n",
            "50%     6.500000    2.50000   1.500000       102.0  \n",
            "75%     9.250000    3.25000   2.000000       102.0  \n",
            "max    12.000000    4.00000   2.000000       102.0  \n",
            "-------------------------------\n",
            "Análise descritiva dos produtos\n",
            "-------------------------------\n",
            "       Cod Produto  CustoUnitario\n",
            "count   667.000000     667.000000\n",
            "mean   1817.046477       8.480705\n",
            "std     765.533092      13.290274\n",
            "min     108.000000       0.190000\n",
            "25%    1258.500000       1.120000\n",
            "50%    2089.000000       2.710000\n",
            "75%    2430.500000       8.445000\n",
            "max    2687.000000      81.160000\n",
            "-----------------------------\n",
            "Análise descritiva das vendas\n",
            "-----------------------------\n",
            "                NFe      cdProduto     cdVendedor       QtdItens  \\\n",
            "count  2.655490e+05  265549.000000  265549.000000  265549.000000   \n",
            "mean   7.069613e+06    1335.628370     222.921909      24.487740   \n",
            "std    6.187598e+06     857.729273     100.628397      86.258167   \n",
            "min    1.735761e+06     108.000000     102.000000       1.000000   \n",
            "25%    2.019550e+06     467.000000     144.000000       6.000000   \n",
            "50%    3.777458e+06    1389.000000     215.000000      12.000000   \n",
            "75%    1.211280e+07    2233.000000     265.000000      24.000000   \n",
            "max    2.175043e+07    2687.000000     669.000000    9000.000000   \n",
            "\n",
            "       PrecoUnitario  \n",
            "count  265549.000000  \n",
            "mean        7.481609  \n",
            "std        15.928053  \n",
            "min         0.290000  \n",
            "25%         1.950000  \n",
            "50%         3.640000  \n",
            "75%         5.280000  \n",
            "max       197.230000  \n",
            "---------------------------------\n",
            "Análise descritiva dos vendedores\n",
            "---------------------------------\n",
            "       cdVendedor\n",
            "count   12.000000\n",
            "mean   280.333333\n",
            "std    190.782281\n",
            "min    102.000000\n",
            "25%    173.250000\n",
            "50%    205.500000\n",
            "75%    295.250000\n",
            "max    669.000000\n"
          ]
        }
      ]
    },
    {
      "cell_type": "markdown",
      "source": [
        "# Analisando a performance de vendas"
      ],
      "metadata": {
        "id": "rsqUx1jrbF-6"
      }
    },
    {
      "cell_type": "code",
      "source": [
        "# Unindo vendas com produtos\n",
        "vendas_produtos = vendas.merge(produtos, left_on='cdProduto', right_on='Cod Produto')\n",
        "\n",
        "# Unindo vendas_produtos com vendedores\n",
        "vendas_completas = vendas_produtos.merge(vendedores, left_on='cdVendedor', right_on='cdVendedor')\n",
        "\n",
        "# Calculando o valor total das vendas\n",
        "vendas_completas['ValorTotalVenda'] = vendas_completas['PrecoUnitario'] * vendas_completas['QtdItens']\n",
        "\n",
        "# Exibindo a tabela completa\n",
        "print(vendas_completas.head())"
      ],
      "metadata": {
        "colab": {
          "base_uri": "https://localhost:8080/"
        },
        "id": "TpSH-EqlbIoQ",
        "outputId": "4cf0143d-6468-43ea-c0a9-a2065fd49465"
      },
      "execution_count": 75,
      "outputs": [
        {
          "output_type": "stream",
          "name": "stdout",
          "text": [
            "         Data       NFe  cdProduto  cdVendedor        Vendedor_x  \\\n",
            "0  01/01/2019   1793150       2255         144  Felipe Goncalves   \n",
            "1  01/01/2020   8965750       2255         144  Felipe Goncalves   \n",
            "2  01/03/2020   9288955       2255         144  Felipe Goncalves   \n",
            "3  01/03/2020  14870288       2255         144  Felipe Goncalves   \n",
            "4  01/04/2019   1898114       2255         144  Felipe Goncalves   \n",
            "\n",
            "  Equipe Vendas_x  QtdItens  PrecoUnitario  Cod Produto Grupo Produto  \\\n",
            "0          Online        24           0.94         2255     Fermentos   \n",
            "1          Online        24           0.90         2255     Fermentos   \n",
            "2          Online        24           0.71         2255     Fermentos   \n",
            "3          Online        24           0.65         2255     Fermentos   \n",
            "4          Online        48           0.90         2255     Fermentos   \n",
            "\n",
            "  Linha Produto          Fornecedor  CustoUnitario        Vendedor_y  \\\n",
            "0     Alimentos  Moinho Dois Irmãos           0.21  Felipe Goncalves   \n",
            "1     Alimentos  Moinho Dois Irmãos           0.21  Felipe Goncalves   \n",
            "2     Alimentos  Moinho Dois Irmãos           0.21  Felipe Goncalves   \n",
            "3     Alimentos  Moinho Dois Irmãos           0.21  Felipe Goncalves   \n",
            "4     Alimentos  Moinho Dois Irmãos           0.21  Felipe Goncalves   \n",
            "\n",
            "  Equipe Vendas_y                                               Foto  \\\n",
            "0          Online  https://292aa00292a014763d1b-96a84504aed2b25fc...   \n",
            "1          Online  https://292aa00292a014763d1b-96a84504aed2b25fc...   \n",
            "2          Online  https://292aa00292a014763d1b-96a84504aed2b25fc...   \n",
            "3          Online  https://292aa00292a014763d1b-96a84504aed2b25fc...   \n",
            "4          Online  https://292aa00292a014763d1b-96a84504aed2b25fc...   \n",
            "\n",
            "   ValorTotalVenda  \n",
            "0            22.56  \n",
            "1            21.60  \n",
            "2            17.04  \n",
            "3            15.60  \n",
            "4            43.20  \n"
          ]
        }
      ]
    },
    {
      "cell_type": "markdown",
      "source": [
        "# Visualização dos dados\n",
        "Vendas por Vendedor"
      ],
      "metadata": {
        "id": "jrnOsjZEbLNJ"
      }
    },
    {
      "cell_type": "code",
      "source": [
        "# Vendas por Vendedor\n",
        "vendas_por_vendedor = vendas_completas.groupby('Vendedor_x')['ValorTotalVenda'].sum().reset_index()\n",
        "vendas_por_vendedor = vendas_por_vendedor.rename(columns={'Vendedor_x': 'Vendedor', 'ValorTotalVenda': 'ValorTotalVendas'})\n",
        "plt.figure(figsize=(10, 6))\n",
        "sns.barplot(x='ValorTotalVendas', y='Vendedor', data=vendas_por_vendedor)\n",
        "plt.title('Vendas por Vendedor')\n",
        "plt.xlabel('Valor Total das Vendas')\n",
        "plt.ylabel('Vendedor')\n",
        "plt.show()"
      ],
      "metadata": {
        "colab": {
          "base_uri": "https://localhost:8080/",
          "height": 564
        },
        "id": "INWpObJXbWJh",
        "outputId": "339129a9-d53a-4779-b9eb-4cadfea0ec18"
      },
      "execution_count": 67,
      "outputs": [
        {
          "output_type": "display_data",
          "data": {
            "text/plain": [
              "<Figure size 1000x600 with 1 Axes>"
            ],
            "image/png": "[encoded data removed]"
          },
          "metadata": {}
        }
      ]
    },
    {
      "cell_type": "markdown",
      "source": [
        "Vendas por Produto"
      ],
      "metadata": {
        "id": "3JT-SLVrbYZz"
      }
    },
    {
      "cell_type": "code",
      "source": [
        "# Vendas por Produto\n",
        "vendas_por_produto = vendas_completas.groupby('Linha Produto')['ValorTotalVenda'].sum().reset_index()\n",
        "vendas_por_produto = vendas_por_produto.rename(columns={'Linha Produto': 'Produto', 'ValorTotalVenda': 'ValorTotalVendas'})\n",
        "plt.figure(figsize=(10, 6))\n",
        "sns.barplot(x='ValorTotalVendas', y='Produto', data=vendas_por_produto)\n",
        "plt.title('Vendas por Produto')\n",
        "plt.xlabel('Valor Total das Vendas')\n",
        "plt.ylabel('Produto')\n",
        "plt.show()"
      ],
      "metadata": {
        "colab": {
          "base_uri": "https://localhost:8080/",
          "height": 564
        },
        "id": "2nu-l-KDcDKJ",
        "outputId": "7dfbd043-ed6d-4f75-a2cf-cdc892c087e3"
      },
      "execution_count": 56,
      "outputs": [
        {
          "output_type": "display_data",
          "data": {
            "text/plain": [
              "<Figure size 1000x600 with 1 Axes>"
            ],
            "image/png": "[encoded data removed]"
          },
          "metadata": {}
        }
      ]
    },
    {
      "cell_type": "markdown",
      "source": [
        "Metas vs. Vendas"
      ],
      "metadata": {
        "id": "SASHdOEKcF1E"
      }
    },
    {
      "cell_type": "code",
      "source": [
        "print('--------------------------------------')\n",
        "print('Visualização parcial dos dados de META')\n",
        "print('--------------------------------------')\n",
        "print(metas.head())\n",
        "print('--------------------------------------------------')\n",
        "print('Visualização parcial dos dados de vendas_completas')\n",
        "print('--------------------------------------------------')\n",
        "print(vendas_completas.head())"
      ],
      "metadata": {
        "colab": {
          "base_uri": "https://localhost:8080/"
        },
        "id": "onNjTmeCFYok",
        "outputId": "ed4315ce-719c-4c4e-ed92-6d0e832d3046"
      },
      "execution_count": 76,
      "outputs": [
        {
          "output_type": "stream",
          "name": "stdout",
          "text": [
            "--------------------------------------\n",
            "Visualização parcial dos dados de META\n",
            "--------------------------------------\n",
            "         Mês   Ano        Vendedor  Meta Faturamento  Meta Margem Bruta  \\\n",
            "0    janeiro  2019  Gustavo Barros         85.425000            93.2960   \n",
            "1  fevereiro  2019  Gustavo Barros        572.900000           306.2304   \n",
            "2      março  2019  Gustavo Barros         40.233333           138.1800   \n",
            "3      abril  2019  Gustavo Barros         97.466667            59.2704   \n",
            "4       maio  2019  Gustavo Barros       4643.975000          6512.6880   \n",
            "\n",
            "   Meta Notas Emitidas  MesNumero  Trimestre  Semestre  cdVendedor  \n",
            "0                 11.7          1          1         1         102  \n",
            "1                 13.0          2          1         1         102  \n",
            "2                  2.6          3          1         1         102  \n",
            "3                  0.0          4          2         1         102  \n",
            "4                 65.0          5          2         1         102  \n",
            "--------------------------------------------------\n",
            "Visualização parcial dos dados de vendas_completas\n",
            "--------------------------------------------------\n",
            "         Data       NFe  cdProduto  cdVendedor        Vendedor_x  \\\n",
            "0  01/01/2019   1793150       2255         144  Felipe Goncalves   \n",
            "1  01/01/2020   8965750       2255         144  Felipe Goncalves   \n",
            "2  01/03/2020   9288955       2255         144  Felipe Goncalves   \n",
            "3  01/03/2020  14870288       2255         144  Felipe Goncalves   \n",
            "4  01/04/2019   1898114       2255         144  Felipe Goncalves   \n",
            "\n",
            "  Equipe Vendas_x  QtdItens  PrecoUnitario  Cod Produto Grupo Produto  \\\n",
            "0          Online        24           0.94         2255     Fermentos   \n",
            "1          Online        24           0.90         2255     Fermentos   \n",
            "2          Online        24           0.71         2255     Fermentos   \n",
            "3          Online        24           0.65         2255     Fermentos   \n",
            "4          Online        48           0.90         2255     Fermentos   \n",
            "\n",
            "  Linha Produto          Fornecedor  CustoUnitario        Vendedor_y  \\\n",
            "0     Alimentos  Moinho Dois Irmãos           0.21  Felipe Goncalves   \n",
            "1     Alimentos  Moinho Dois Irmãos           0.21  Felipe Goncalves   \n",
            "2     Alimentos  Moinho Dois Irmãos           0.21  Felipe Goncalves   \n",
            "3     Alimentos  Moinho Dois Irmãos           0.21  Felipe Goncalves   \n",
            "4     Alimentos  Moinho Dois Irmãos           0.21  Felipe Goncalves   \n",
            "\n",
            "  Equipe Vendas_y                                               Foto  \\\n",
            "0          Online  https://292aa00292a014763d1b-96a84504aed2b25fc...   \n",
            "1          Online  https://292aa00292a014763d1b-96a84504aed2b25fc...   \n",
            "2          Online  https://292aa00292a014763d1b-96a84504aed2b25fc...   \n",
            "3          Online  https://292aa00292a014763d1b-96a84504aed2b25fc...   \n",
            "4          Online  https://292aa00292a014763d1b-96a84504aed2b25fc...   \n",
            "\n",
            "   ValorTotalVenda  \n",
            "0            22.56  \n",
            "1            21.60  \n",
            "2            17.04  \n",
            "3            15.60  \n",
            "4            43.20  \n"
          ]
        }
      ]
    },
    {
      "cell_type": "code",
      "source": [
        "# Metas vs. Vendas\n",
        "vendas_metas = vendas_completas.merge(metas, left_on=['cdVendedor'], right_on=['cdVendedor'])\n",
        "vendas_metas['DifMeta'] = vendas_metas['ValorTotalVenda'] - vendas_metas['Meta Faturamento']\n",
        "\n",
        "# Filtrando os dados para Alimentos e Bebidas\n",
        "vendas_metas_alimentos = vendas_metas[vendas_metas['Linha Produto'] == 'Alimentos']\n",
        "vendas_metas_bebidas = vendas_metas[vendas_metas['Linha Produto'] == 'Bebidas']\n",
        "\n",
        "print(vendas_metas_alimentos.head())\n",
        "print()\n",
        "print(vendas_metas_bebidas.head())"
      ],
      "metadata": {
        "colab": {
          "base_uri": "https://localhost:8080/"
        },
        "id": "SCxZolg-MOog",
        "outputId": "2aabd0e6-face-46ad-f799-71c07fa3c061"
      },
      "execution_count": 93,
      "outputs": [
        {
          "output_type": "stream",
          "name": "stdout",
          "text": [
            "         Data       NFe  cdProduto  cdVendedor      Vendedor_x  \\\n",
            "0  01/08/2020  18182988       2255         102  Gustavo Barros   \n",
            "1  01/08/2020  18182988       2255         102  Gustavo Barros   \n",
            "2  01/08/2020  18182988       2255         102  Gustavo Barros   \n",
            "3  01/08/2020  18182988       2255         102  Gustavo Barros   \n",
            "4  01/08/2020  18182988       2255         102  Gustavo Barros   \n",
            "\n",
            "  Equipe Vendas_x  QtdItens  PrecoUnitario  Cod Produto Grupo Produto  ...  \\\n",
            "0          Varejo        24           0.82         2255     Fermentos  ...   \n",
            "1          Varejo        24           0.82         2255     Fermentos  ...   \n",
            "2          Varejo        24           0.82         2255     Fermentos  ...   \n",
            "3          Varejo        24           0.82         2255     Fermentos  ...   \n",
            "4          Varejo        24           0.82         2255     Fermentos  ...   \n",
            "\n",
            "         Mês   Ano        Vendedor Meta Faturamento Meta Margem Bruta  \\\n",
            "0    janeiro  2019  Gustavo Barros        85.425000           93.2960   \n",
            "1  fevereiro  2019  Gustavo Barros       572.900000          306.2304   \n",
            "2      março  2019  Gustavo Barros        40.233333          138.1800   \n",
            "3      abril  2019  Gustavo Barros        97.466667           59.2704   \n",
            "4       maio  2019  Gustavo Barros      4643.975000         6512.6880   \n",
            "\n",
            "  Meta Notas Emitidas  MesNumero Trimestre  Semestre      DifMeta  \n",
            "0                11.7          1         1         1   -65.745000  \n",
            "1                13.0          2         1         1  -553.220000  \n",
            "2                 2.6          3         1         1   -20.553333  \n",
            "3                 0.0          4         2         1   -77.786667  \n",
            "4                65.0          5         2         1 -4624.295000  \n",
            "\n",
            "[5 rows x 27 columns]\n",
            "\n",
            "             Data      NFe  cdProduto  cdVendedor      Vendedor_x  \\\n",
            "66024  01/09/2019  2063689       2061         102  Gustavo Barros   \n",
            "66025  01/09/2019  2063689       2061         102  Gustavo Barros   \n",
            "66026  01/09/2019  2063689       2061         102  Gustavo Barros   \n",
            "66027  01/09/2019  2063689       2061         102  Gustavo Barros   \n",
            "66028  01/09/2019  2063689       2061         102  Gustavo Barros   \n",
            "\n",
            "      Equipe Vendas_x  QtdItens  PrecoUnitario  Cod Produto Grupo Produto  \\\n",
            "66024          Varejo        15           1.75         2061    Vinho Seco   \n",
            "66025          Varejo        15           1.75         2061    Vinho Seco   \n",
            "66026          Varejo        15           1.75         2061    Vinho Seco   \n",
            "66027          Varejo        15           1.75         2061    Vinho Seco   \n",
            "66028          Varejo        15           1.75         2061    Vinho Seco   \n",
            "\n",
            "       ...        Mês   Ano        Vendedor Meta Faturamento  \\\n",
            "66024  ...    janeiro  2019  Gustavo Barros        85.425000   \n",
            "66025  ...  fevereiro  2019  Gustavo Barros       572.900000   \n",
            "66026  ...      março  2019  Gustavo Barros        40.233333   \n",
            "66027  ...      abril  2019  Gustavo Barros        97.466667   \n",
            "66028  ...       maio  2019  Gustavo Barros      4643.975000   \n",
            "\n",
            "      Meta Margem Bruta Meta Notas Emitidas  MesNumero Trimestre  Semestre  \\\n",
            "66024           93.2960                11.7          1         1         1   \n",
            "66025          306.2304                13.0          2         1         1   \n",
            "66026          138.1800                 2.6          3         1         1   \n",
            "66027           59.2704                 0.0          4         2         1   \n",
            "66028         6512.6880                65.0          5         2         1   \n",
            "\n",
            "           DifMeta  \n",
            "66024   -59.175000  \n",
            "66025  -546.650000  \n",
            "66026   -13.983333  \n",
            "66027   -71.216667  \n",
            "66028 -4617.725000  \n",
            "\n",
            "[5 rows x 27 columns]\n"
          ]
        }
      ]
    },
    {
      "cell_type": "markdown",
      "source": [],
      "metadata": {
        "id": "KU1bdVugcNUg"
      }
    }
  ]
}